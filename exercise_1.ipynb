{
 "cells": [
  {
   "cell_type": "code",
   "execution_count": 24,
   "metadata": {},
   "outputs": [],
   "source": [
    "# 1-> Escreva um programa python para verificar se um número inteiro positivo é uma potência de dois"
   ]
  },
  {
   "cell_type": "code",
   "execution_count": 187,
   "metadata": {},
   "outputs": [
    {
     "name": "stdout",
     "output_type": "stream",
     "text": [
      "O número 16384 é potencia de 2.\n"
     ]
    }
   ],
   "source": [
    "numero=16384\n",
    "x=1\n",
    "while x>0:\n",
    "    if (x%2)==0:\n",
    "        x=x/2\n",
    "        #print(x2)\n",
    "        if x==1:\n",
    "            print('O número {0} é potencia de 2.'.format(int(numero)))\n",
    "            x=-1    \n",
    "    elif (x%2)!=0:\n",
    "        #print(x)\n",
    "        if x==1:\n",
    "            print('O número {0} é potencia de 2.'.format(int(numero)))\n",
    "            x=-1\n",
    "        elif x!=1:\n",
    "            print('O número {0} não é potencia de 2.'.format(int(numero)))\n",
    "            x=-1\n",
    "    #elif x==1:\n",
    "     #   print('O número {0} é potencia de 2.'.format(int(numero)))\n",
    "      #  x=-1\n",
    "       "
   ]
  },
  {
   "cell_type": "code",
   "execution_count": 149,
   "metadata": {},
   "outputs": [],
   "source": [
    "# 2-> Escreva um programa python para verificar se um número é um quadrado perfeito"
   ]
  },
  {
   "cell_type": "code",
   "execution_count": 199,
   "metadata": {},
   "outputs": [
    {
     "name": "stdout",
     "output_type": "stream",
     "text": [
      "O número 4 é um quadrado perfeito!!!\n"
     ]
    }
   ],
   "source": [
    "#valor = int(input('Entre com um número, para saber o quadrado perfeito: '))\n",
    "numero = 4\n",
    "\n",
    "raizQ = int(numero ** (1/2))\n",
    "#print(raizQ)\n",
    "\n",
    "if((raizQ ** 2) == numero ):\n",
    "    #print(raizQ)\n",
    "    print('O número {0} é um quadrado perfeito!!!'.format(int(numero)))\n",
    "else:\n",
    "    print('O número {0} não é quadrado perfeito!!!'.format(numero))\n"
   ]
  },
  {
   "cell_type": "code",
   "execution_count": 141,
   "metadata": {},
   "outputs": [],
   "source": [
    "# 3-> Escreva um programa python para calcular o comprimento de uma string"
   ]
  },
  {
   "cell_type": "code",
   "execution_count": 4,
   "metadata": {},
   "outputs": [],
   "source": [
    "nome = 'pedro'"
   ]
  },
  {
   "cell_type": "code",
   "execution_count": 5,
   "metadata": {},
   "outputs": [
    {
     "data": {
      "text/plain": [
       "'pedro'"
      ]
     },
     "execution_count": 5,
     "metadata": {},
     "output_type": "execute_result"
    }
   ],
   "source": [
    "nome"
   ]
  },
  {
   "cell_type": "code",
   "execution_count": 6,
   "metadata": {},
   "outputs": [
    {
     "data": {
      "text/plain": [
       "5"
      ]
     },
     "execution_count": 6,
     "metadata": {},
     "output_type": "execute_result"
    }
   ],
   "source": [
    "len(nome)"
   ]
  },
  {
   "cell_type": "code",
   "execution_count": 7,
   "metadata": {},
   "outputs": [],
   "source": [
    "# 4-> Escreva um programa python para contar o número de caracteres em uma string (Frequencia de caracter)"
   ]
  },
  {
   "cell_type": "code",
   "execution_count": 45,
   "metadata": {},
   "outputs": [
    {
     "data": {
      "text/plain": [
       "1"
      ]
     },
     "execution_count": 45,
     "metadata": {},
     "output_type": "execute_result"
    }
   ],
   "source": [
    "nome.count('p')"
   ]
  },
  {
   "cell_type": "code",
   "execution_count": 90,
   "metadata": {},
   "outputs": [
    {
     "name": "stdout",
     "output_type": "stream",
     "text": [
      "{'g': 2, 'o': 2, 'l': 1, 'e': 1}\n"
     ]
    }
   ],
   "source": [
    "nome='google'\n",
    "i=len(nome)\n",
    "b=0\n",
    "dic={}\n",
    "while i>0:\n",
    "    aux1=nome[b]\n",
    "    aux2=nome.count(aux1)\n",
    "    dic[aux1]=aux2\n",
    "    #print(\"letra: \"+nome[b]+\" \"+aux2)\n",
    "    b=b+1\n",
    "    i=i-1\n",
    "    \n",
    "print(dic)"
   ]
  },
  {
   "cell_type": "code",
   "execution_count": null,
   "metadata": {},
   "outputs": [],
   "source": []
  }
 ],
 "metadata": {
  "kernelspec": {
   "display_name": "Python 3",
   "language": "python",
   "name": "python3"
  },
  "language_info": {
   "codemirror_mode": {
    "name": "ipython",
    "version": 3
   },
   "file_extension": ".py",
   "mimetype": "text/x-python",
   "name": "python",
   "nbconvert_exporter": "python",
   "pygments_lexer": "ipython3",
   "version": "3.7.4"
  }
 },
 "nbformat": 4,
 "nbformat_minor": 2
}
